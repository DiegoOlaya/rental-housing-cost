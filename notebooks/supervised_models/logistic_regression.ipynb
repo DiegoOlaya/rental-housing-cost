{
 "cells": [
  {
   "cell_type": "code",
   "execution_count": 5,
   "metadata": {},
   "outputs": [],
   "source": [
    "import sys\n",
    "import pandas as pd\n",
    "from collections import defaultdict\n",
    "\n",
    "sys.path.insert(0, '/Users/diol5851/Documents/rental-housing-cost/')\n",
    "from notebooks.data_cleaning_EDA.AHS_Parser import AHS_Parser\n",
    "sys.path.remove('/Users/diol5851/Documents/rental-housing-cost/')"
   ]
  },
  {
   "cell_type": "code",
   "execution_count": 8,
   "metadata": {},
   "outputs": [],
   "source": [
    "def get_dataset(year):\n",
    "    raw_dat = pd.read_feather(f'../../data/AHS_{year}.feather')\n",
    "    # Drop the year column, since that does not add information here.\n",
    "    dat = raw_dat.drop(columns=['YEAR'])\n",
    "    # Move ADEQUACY to the first column.\n",
    "    adequacy = dat.pop('ADEQUACY')\n",
    "    dat.insert(0, 'ADEQUACY', adequacy)\n",
    "    # Drop apartments with four or more bathrooms.\n",
    "    dat = dat[dat['BATHROOMS'] < 4]\n",
    "    # Remap the ADEQUACY column to a binary column, where 1 is adequate.\n",
    "    ad_default = defaultdict(lambda: 0)\n",
    "    ad_default['Adequate'] = 1\n",
    "    dat['ADEQUACY'] = dat['ADEQUACY'].map(ad_default)\n",
    "    # Dropping columns that seem redundant for prediction.\n",
    "    dat = dat.drop(columns = [\n",
    "        'UTILAMT', 'HOAAMT', 'INSURAMT', 'FINCP', 'KITCHENS', 'DINING', 'LAUNDY', 'GARAGE', 'PORCH',\n",
    "        'NUMNONREL', 'HHADLTKIDS', 'SUBDIV'\n",
    "        ])\n",
    "    # Parse the remaining categorical columns.\n",
    "    parser = AHS_Parser()\n",
    "    for col in dat.select_dtypes(include=['object']).columns:\n",
    "        dat[col] = dat[col].astype('category')\n",
    "        dat[col] = dat[col].cat.rename_categories(parser.parse_categorical(col, 2023))\n",
    "        if 'Not reported' in dat[col].cat.categories:\n",
    "            dat[col] = dat[col].cat.remove_categories(['Not reported'])\n",
    "    # Drop columns with less than 20k non-null values.\n",
    "    dat = dat.drop(columns = dat.columns[dat.count() < 20e3])\n",
    "    # Drop all remaining null values.\n",
    "    dat = dat.dropna()\n",
    "    return dat"
   ]
  }
 ],
 "metadata": {
  "kernelspec": {
   "display_name": ".rent_venv",
   "language": "python",
   "name": "python3"
  },
  "language_info": {
   "codemirror_mode": {
    "name": "ipython",
    "version": 3
   },
   "file_extension": ".py",
   "mimetype": "text/x-python",
   "name": "python",
   "nbconvert_exporter": "python",
   "pygments_lexer": "ipython3",
   "version": "3.13.2"
  }
 },
 "nbformat": 4,
 "nbformat_minor": 2
}
