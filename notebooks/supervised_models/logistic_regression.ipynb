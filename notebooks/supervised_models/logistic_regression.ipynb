{
 "cells": [
  {
   "cell_type": "code",
   "execution_count": null,
   "metadata": {},
   "outputs": [],
   "source": [
    "import sys\n",
    "import pandas as pd\n",
    "import statsmodels.api as sm\n",
    "import matplotlib.pyplot as plt\n",
    "import seaborn as sns\n",
    "\n",
    "from collections import defaultdict\n",
    "from sklearn.metrics import confusion_matrix\n",
    "from sklearn.model_selection import train_test_split\n",
    "\n",
    "sys.path.insert(0, '/Users/diol5851/Documents/rental-housing-cost/')\n",
    "from notebooks.data_cleaning_EDA.AHS_Parser import AHS_Parser\n",
    "sys.path.remove('/Users/diol5851/Documents/rental-housing-cost/')"
   ]
  },
  {
   "cell_type": "code",
   "execution_count": 2,
   "metadata": {},
   "outputs": [],
   "source": [
    "def get_dataset(year):\n",
    "    raw_dat = pd.read_feather(f'../../data/AHS_{year}.feather')\n",
    "    # Drop the year column, since that does not add information here.\n",
    "    dat = raw_dat.drop(columns=['YEAR'])\n",
    "    # Move ADEQUACY to the first column.\n",
    "    adequacy = dat.pop('ADEQUACY')\n",
    "    dat.insert(0, 'ADEQUACY', adequacy)\n",
    "    # Drop apartments with four or more bathrooms.\n",
    "    dat = dat[dat['BATHROOMS'] < 4]\n",
    "    # Remap the ADEQUACY column to a binary column, where 1 is adequate.\n",
    "    ad_default = defaultdict(lambda: 0)\n",
    "    ad_default['Adequate'] = 1\n",
    "    dat['ADEQUACY'] = dat['ADEQUACY'].map(ad_default)\n",
    "    # Dropping columns that seem redundant for prediction.\n",
    "    dat = dat.drop(columns = [\n",
    "        'UTILAMT', 'HOAAMT', 'INSURAMT', 'FINCP', 'KITCHENS', 'DINING', 'LAUNDY', 'GARAGE', 'PORCH',\n",
    "        'NUMNONREL', 'HHADLTKIDS', 'SUBDIV'\n",
    "        ])\n",
    "    # Parse the remaining categorical columns.\n",
    "    parser = AHS_Parser()\n",
    "    for col in dat.select_dtypes(include=['object']).columns:\n",
    "        dat[col] = dat[col].astype('category')\n",
    "        dat[col] = dat[col].cat.rename_categories(parser.parse_categorical(col, year))\n",
    "        if 'Not reported' in dat[col].cat.categories:\n",
    "            dat[col] = dat[col].cat.remove_categories(['Not reported'])\n",
    "    # Drop columns with less than 20k non-null values.\n",
    "    dat = dat.drop(columns = dat.columns[dat.count() < 20e3])\n",
    "    # Drop all remaining null values.\n",
    "    dat = dat.dropna()\n",
    "    return dat"
   ]
  },
  {
   "cell_type": "code",
   "execution_count": 3,
   "metadata": {},
   "outputs": [
    {
     "data": {
      "text/plain": [
       "Index(['ADEQUACY', 'OMB13CBSA', 'BLD', 'STORIES', 'YRBUILT', 'RENT', 'RENTSUB',\n",
       "       'TOTHCAMT', 'UNITFLOORS', 'BATHROOMS', 'BEDROOMS', 'TOTROOMS',\n",
       "       'ACPRIMARY', 'HEATTYPE', 'HOTWATER', 'SEWTYPE', 'WATSOURCE', 'COOKTYPE',\n",
       "       'DRYER', 'ROACH', 'RODENT', 'SEWBREAK', 'HINCP', 'NUMPEOPLE', 'HHAGE',\n",
       "       'HHCITSHP', 'HHGRAD', 'HHMAR', 'HHMOVE', 'HHNATVTY', 'HHRACE',\n",
       "       'NEARABAND', 'NEARBARCL', 'NEARTRASH', 'RATINGNH', 'HHPRNTHOME'],\n",
       "      dtype='object')"
      ]
     },
     "execution_count": 3,
     "metadata": {},
     "output_type": "execute_result"
    }
   ],
   "source": [
    "# Pull the 2023 AHS data.\n",
    "dat = get_dataset(2023)\n",
    "dat.columns"
   ]
  },
  {
   "cell_type": "markdown",
   "metadata": {},
   "source": [
    "We want to get rid of indicators that are considered \"cheating\". These would be items that would be very obvious proxies for housing unsuitability. These are likely the items that show pest contamination and broken sewers. These would be `ROACH`, `RODENT`, and `SEWBREAK`. While the location parameter is interesting with respect to the question of whether unsuitable rental properties are clustered in specific sites, the metro area location of the property should not really be important to figuring out its suitability. Then, the remaining parameters are information about the unit itself and the occupants of the unit."
   ]
  },
  {
   "cell_type": "code",
   "execution_count": 4,
   "metadata": {},
   "outputs": [
    {
     "name": "stdout",
     "output_type": "stream",
     "text": [
      "<class 'pandas.core.frame.DataFrame'>\n",
      "Index: 19997 entries, 0 to 55667\n",
      "Data columns (total 32 columns):\n",
      " #   Column      Non-Null Count  Dtype   \n",
      "---  ------      --------------  -----   \n",
      " 0   ADEQUACY    19997 non-null  int64   \n",
      " 1   BLD         19997 non-null  category\n",
      " 2   STORIES     19997 non-null  int64   \n",
      " 3   YRBUILT     19997 non-null  int64   \n",
      " 4   RENT        19997 non-null  int64   \n",
      " 5   RENTSUB     19997 non-null  category\n",
      " 6   TOTHCAMT    19997 non-null  int64   \n",
      " 7   UNITFLOORS  19997 non-null  int64   \n",
      " 8   BATHROOMS   19997 non-null  float64 \n",
      " 9   BEDROOMS    19997 non-null  int64   \n",
      " 10  TOTROOMS    19997 non-null  int64   \n",
      " 11  ACPRIMARY   19997 non-null  category\n",
      " 12  HEATTYPE    19997 non-null  category\n",
      " 13  HOTWATER    19997 non-null  category\n",
      " 14  SEWTYPE     19997 non-null  category\n",
      " 15  WATSOURCE   19997 non-null  category\n",
      " 16  COOKTYPE    19997 non-null  category\n",
      " 17  DRYER       19997 non-null  category\n",
      " 18  HINCP       19997 non-null  int64   \n",
      " 19  NUMPEOPLE   19997 non-null  int64   \n",
      " 20  HHAGE       19997 non-null  int64   \n",
      " 21  HHCITSHP    19997 non-null  category\n",
      " 22  HHGRAD      19997 non-null  category\n",
      " 23  HHMAR       19997 non-null  category\n",
      " 24  HHMOVE      19997 non-null  int64   \n",
      " 25  HHNATVTY    19997 non-null  category\n",
      " 26  HHRACE      19997 non-null  category\n",
      " 27  NEARABAND   19997 non-null  category\n",
      " 28  NEARBARCL   19997 non-null  category\n",
      " 29  NEARTRASH   19997 non-null  category\n",
      " 30  RATINGNH    19997 non-null  float64 \n",
      " 31  HHPRNTHOME  19997 non-null  category\n",
      "dtypes: category(18), float64(2), int64(12)\n",
      "memory usage: 2.7 MB\n"
     ]
    }
   ],
   "source": [
    "dat.drop(columns=['OMB13CBSA', 'ROACH', 'RODENT', 'SEWBREAK'], inplace=True)\n",
    "dat.info()"
   ]
  },
  {
   "cell_type": "markdown",
   "metadata": {},
   "source": [
    "Many of these values are categorical, so they would need to be one-hot encoded in order to work. We will consider doing this later. For now, it is time to generate the training and test datasets. First, however, we need to address the fact that this dataset is unbalanced."
   ]
  },
  {
   "cell_type": "code",
   "execution_count": 5,
   "metadata": {},
   "outputs": [
    {
     "data": {
      "text/plain": [
       "ADEQUACY\n",
       "1    18291\n",
       "0     1706\n",
       "Name: count, dtype: int64"
      ]
     },
     "execution_count": 5,
     "metadata": {},
     "output_type": "execute_result"
    }
   ],
   "source": [
    "dat['ADEQUACY'].value_counts()"
   ]
  },
  {
   "cell_type": "markdown",
   "metadata": {},
   "source": [
    "Out of the nearly 20 thousand units that are represented in the sample, only 1700 are not considered adequate housing. This is good, but it also means that training naively on the data would result in an unacceptable skew of samples. We will have to balance the dataset first. To avoid training on data that the model will later be tested on, we will balance the dataset after partitions are generated, and split the data by category."
   ]
  },
  {
   "cell_type": "code",
   "execution_count": 6,
   "metadata": {},
   "outputs": [
    {
     "name": "stdout",
     "output_type": "stream",
     "text": [
      "Adequate training dimensions: (14632, 32)\n",
      "Not adequate training dimensions: (1364, 32)\n"
     ]
    }
   ],
   "source": [
    "dat_adequate = dat[dat['ADEQUACY'] == 1]\n",
    "dat_not_adequate = dat[dat['ADEQUACY'] == 0]\n",
    "# Split the two dataframes into training and testing sets.\n",
    "adequate_train, adequate_test = train_test_split(dat_adequate, test_size=0.2, random_state=42)\n",
    "not_adequate_train, not_adequate_test = train_test_split(dat_not_adequate, test_size=0.2, random_state=42)\n",
    "# Print the dimensions of the training sets.\n",
    "print(f'Adequate training dimensions: {adequate_train.shape}')\n",
    "print(f'Not adequate training dimensions: {not_adequate_train.shape}')"
   ]
  },
  {
   "cell_type": "markdown",
   "metadata": {},
   "source": [
    "We will oversample the training dataset so that the two classes are roughly equally represented in training. We will not do this in testing, since testing on the same case would simply inflate the accuracy."
   ]
  },
  {
   "cell_type": "code",
   "execution_count": 7,
   "metadata": {},
   "outputs": [
    {
     "name": "stdout",
     "output_type": "stream",
     "text": [
      "Training dimensions: (28272, 32)\n"
     ]
    }
   ],
   "source": [
    "# Combine the two training sets, oversampling the inadequate apartments.\n",
    "train = pd.concat([not_adequate_train] * 10)\n",
    "train = pd.concat([train, adequate_train])\n",
    "print(f'Training dimensions: {train.shape}')"
   ]
  },
  {
   "cell_type": "code",
   "execution_count": 8,
   "metadata": {},
   "outputs": [
    {
     "name": "stdout",
     "output_type": "stream",
     "text": [
      "Optimization terminated successfully.\n",
      "         Current function value: 0.644883\n",
      "         Iterations 5\n",
      "                           Logit Regression Results                           \n",
      "==============================================================================\n",
      "Dep. Variable:               ADEQUACY   No. Observations:                28272\n",
      "Model:                          Logit   Df Residuals:                    28259\n",
      "Method:                           MLE   Df Model:                           12\n",
      "Date:                Thu, 27 Mar 2025   Pseudo R-squ.:                 0.06880\n",
      "Time:                        18:14:05   Log-Likelihood:                -18232.\n",
      "converged:                       True   LL-Null:                       -19579.\n",
      "Covariance Type:            nonrobust   LLR p-value:                     0.000\n",
      "==============================================================================\n",
      "                 coef    std err          z      P>|z|      [0.025      0.975]\n",
      "------------------------------------------------------------------------------\n",
      "STORIES       -0.0796      0.007    -10.699      0.000      -0.094      -0.065\n",
      "YRBUILT    -4.712e-05   5.72e-05     -0.824      0.410      -0.000    6.49e-05\n",
      "RENT       -2.539e-05    1.9e-05     -1.334      0.182   -6.27e-05    1.19e-05\n",
      "TOTHCAMT   -9.156e-06   2.17e-05     -0.422      0.673   -5.17e-05    3.33e-05\n",
      "UNITFLOORS    -0.1084      0.018     -5.907      0.000      -0.144      -0.072\n",
      "BATHROOMS      0.6487      0.032     20.341      0.000       0.586       0.711\n",
      "BEDROOMS      -0.4985      0.030    -16.675      0.000      -0.557      -0.440\n",
      "TOTROOMS       0.2114      0.020     10.322      0.000       0.171       0.252\n",
      "HINCP       2.791e-06   2.53e-07     11.046      0.000     2.3e-06    3.29e-06\n",
      "NUMPEOPLE     -0.0667      0.011     -5.882      0.000      -0.089      -0.044\n",
      "HHAGE         -0.0003      0.001     -0.359      0.720      -0.002       0.001\n",
      "HHMOVE        -0.0007   7.09e-05     -9.989      0.000      -0.001      -0.001\n",
      "RATINGNH       0.1848      0.006     29.091      0.000       0.172       0.197\n",
      "==============================================================================\n"
     ]
    }
   ],
   "source": [
    "num_only_mod = sm.Logit(train['ADEQUACY'], train.select_dtypes(exclude=['category']).drop(columns=['ADEQUACY'])).fit()\n",
    "print(num_only_mod.summary())"
   ]
  },
  {
   "cell_type": "code",
   "execution_count": 9,
   "metadata": {},
   "outputs": [],
   "source": [
    "# Create the test set.\n",
    "test = pd.concat([adequate_test, not_adequate_test])\n",
    "# Predict the adequacy of the apartments in the test set.\n",
    "pred = num_only_mod.predict(test.select_dtypes(exclude=['category']).drop(columns=['ADEQUACY']))"
   ]
  },
  {
   "cell_type": "code",
   "execution_count": 10,
   "metadata": {},
   "outputs": [
    {
     "data": {
      "text/plain": [
       "count    4001.000000\n",
       "mean        0.549871\n",
       "std         0.141036\n",
       "min         0.078650\n",
       "25%         0.452615\n",
       "50%         0.560223\n",
       "75%         0.651569\n",
       "max         0.986973\n",
       "dtype: float64"
      ]
     },
     "execution_count": 10,
     "metadata": {},
     "output_type": "execute_result"
    }
   ],
   "source": [
    "pd.Series(pred).describe()"
   ]
  },
  {
   "cell_type": "code",
   "execution_count": 22,
   "metadata": {},
   "outputs": [
    {
     "data": {
      "image/png": "[encoded data removed]",
      "text/plain": [
       "<Figure size 640x480 with 1 Axes>"
      ]
     },
     "metadata": {},
     "output_type": "display_data"
    }
   ],
   "source": [
    "# Get ROC curve data.\n",
    "from sklearn.metrics import roc_curve, roc_auc_score\n",
    "auc = roc_auc_score(test['ADEQUACY'], pred)\n",
    "# Plot ROC curve.\n",
    "fpr, tpr, _ = roc_curve(test['ADEQUACY'], pred)\n",
    "plt.plot(fpr, tpr)\n",
    "plt.plot([0, 1], [0, 1], linestyle='--', color='grey')\n",
    "plt.grid()\n",
    "plt.xlabel('False Positive Rate')\n",
    "plt.ylabel('True Positive Rate')\n",
    "plt.title(f\"ROC Curve (AUC: {auc:.3f})\")\n",
    "plt.show()"
   ]
  },
  {
   "cell_type": "code",
   "execution_count": null,
   "metadata": {},
   "outputs": [
    {
     "data": {
      "image/png": "[encoded data removed]",
      "text/plain": [
       "<Figure size 640x480 with 1 Axes>"
      ]
     },
     "metadata": {},
     "output_type": "display_data"
    },
    {
     "name": "stdout",
     "output_type": "stream",
     "text": [
      "Model Accuracy: 0.652\n"
     ]
    }
   ],
   "source": [
    "# Visualize confusion matrix.\n",
    "cm = confusion_matrix(test['ADEQUACY'], pred > 0.5)\n",
    "sns.heatmap(\n",
    "    cm, \n",
    "    annot=True, \n",
    "    fmt='d', \n",
    "    cmap='Blues', \n",
    "    xticklabels=['Inadequate', 'Adequate'], yticklabels=['Inadequate', 'Adequate'], \n",
    "    cbar=False\n",
    ")\n",
    "plt.xlabel('Predicted')\n",
    "plt.ylabel('Actual')\n",
    "plt.title('Confusion Matrix')\n",
    "plt.show()\n",
    "# Print Model Accuracy\n",
    "accuracy = (cm[0, 0] + cm[1, 1]) / cm.sum()\n",
    "print(f'Model Accuracy: {accuracy:.3f}')"
   ]
  }
 ],
 "metadata": {
  "kernelspec": {
   "display_name": ".rent_venv",
   "language": "python",
   "name": "python3"
  },
  "language_info": {
   "codemirror_mode": {
    "name": "ipython",
    "version": 3
   },
   "file_extension": ".py",
   "mimetype": "text/x-python",
   "name": "python",
   "nbconvert_exporter": "python",
   "pygments_lexer": "ipython3",
   "version": "3.13.2"
  }
 },
 "nbformat": 4,
 "nbformat_minor": 2
}
